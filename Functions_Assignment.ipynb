{
  "nbformat": 4,
  "nbformat_minor": 0,
  "metadata": {
    "colab": {
      "provenance": []
    },
    "kernelspec": {
      "name": "python3",
      "display_name": "Python 3"
    },
    "language_info": {
      "name": "python"
    }
  },
  "cells": [
    {
      "cell_type": "code",
      "execution_count": 1,
      "metadata": {
        "id": "BHiACboBUqTk"
      },
      "outputs": [],
      "source": [
        "# Functions\n"
      ]
    },
    {
      "cell_type": "markdown",
      "source": [
        "  1. What is the difference between a function and a method in Python?\n",
        "  - The difference between a function and a method in Python lies primarily in how they are defined and called:\n",
        "\n",
        "  - Function: A function is a block of reusable code that is defined independently of any class.\n",
        "  It is called by its name and can be called from anywhere.\n",
        "  It operates on the data passed to it as arguments.\n",
        "\n",
        "  - Method: A method is essentially a function that is associated with an object (or a class).\n",
        "  It is defined inside a class.\n",
        "  It is called on an object of that class (using dot notation, e.g., object.method()).\n",
        "  Because it belongs to an object, a method can access and modify the object's internal data (its attributes). It usually takes the instance itself (conventionally called self) as its first argument.\n",
        "\n",
        "In summary: A method is a function that belongs to a class and is called on an instance of that class, whereas a function is independent and is called directly."
      ],
      "metadata": {
        "id": "MJ_iDtegV9q0"
      }
    },
    {
      "cell_type": "code",
      "source": [
        "# Example:\n",
        "# Function\n",
        "def greet(name): # A standalone function\n",
        "    return f\"Hello, {name}!\"\n",
        "\n",
        "# Method\n",
        "class Person:\n",
        "    def __init__(self, name):\n",
        "        self.name = name\n",
        "\n",
        "    def introduce(self): # A method associated with the Person class\n",
        "        return f\"My name is {self.name}.\"\n"
      ],
      "metadata": {
        "id": "mFj9JlSlWsx2"
      },
      "execution_count": 4,
      "outputs": []
    },
    {
      "cell_type": "markdown",
      "source": [
        "2. Explain the concept of function arguments and parameters in Python.\n",
        " - In Python, the terms arguments and parameters are closely related to how functions receive information. While they are often used interchangeably in casual conversation, in a technical sense they refer to slightly different things:\n",
        "\n",
        "- Parameters\n",
        "Parameters are the names specified in the function definition. They act as placeholders for the values the function expects to receive when it is called. You can think of them as variables that are local to the function, defined when you create the function.\n",
        "\n",
        " - Arguments\n",
        "Arguments are the actual values or variables that are passed into the function when you call it. These values are assigned to the corresponding parameters inside the function's body.\n",
        "\n",
        "In Words:\n",
        "When you define a function, the names you put inside the parentheses are the parameters. They tell the world what kind of data the function needs to do its job.\n",
        "\n",
        "When you use or call that function, the values you supply inside the parentheses are the arguments. These are the specific pieces of data that fill the roles of the parameters for that particular function execution."
      ],
      "metadata": {
        "id": "zQtVizNuYJ_J"
      }
    },
    {
      "cell_type": "code",
      "source": [
        "# Example\n",
        "# 'a' and 'b' are PARAMETERS\n",
        "def add(a, b):\n",
        "    return a + b\n",
        "    # 5 and 3 are ARGUMENTS\n",
        "result = add(5, 3) # result will be 8"
      ],
      "metadata": {
        "id": "onSQ16FzY_ZR"
      },
      "execution_count": 10,
      "outputs": []
    },
    {
      "cell_type": "markdown",
      "source": [
        "3. What are the different ways to define and call a function in Python?\n",
        " - Ways to Define a Function:\n",
        "\n",
        " a. Using the def keyword (standard function definition): This is the most common way to define a named function.\n",
        "\n",
        "\n",
        " b. Using the lambda keyword (anonymous/lambda function): This defines a small, inline, and unnamed function that can only contain a single expression.\n",
        "\n",
        " - Ways to Call a Function:\n",
        "\n",
        " a. Positional Arguments: Arguments are passed in the order the parameters are defined.\n",
        "\n",
        "\n",
        " b. Keyword Arguments: Arguments are passed by explicitly naming the parameter they should be assigned to, allowing the order to be changed.\n",
        "\n",
        "\n",
        " c. Default Arguments: Parameters can be given a default value in the definition, making the corresponding argument optional in the call.\n",
        "\n",
        "\n",
        " d. Arbitrary Positional Arguments (*args): Allows a function to accept any number of positional arguments, which are collected into a tuple.\n",
        "\n",
        "\n",
        " e. Arbitrary Keyword Arguments (**kwargs): Allows a function to accept any number of keyword arguments, which are collected into a dictionary."
      ],
      "metadata": {
        "id": "QZgYtgP0ZRbs"
      }
    },
    {
      "cell_type": "code",
      "source": [
        "# Example\n",
        "# Definition (def and lambda)\n",
        "def subtract(a, b):\n",
        "    return a - b\n",
        "\n",
        "multiply = lambda x, y: x * y\n",
        "\n",
        "# Calling (Positional, Keyword, Default)\n",
        "print(subtract(10, 5))         # Positional: Output: 5\n",
        "print(subtract(b=5, a=10))     # Keyword: Output: 5\n",
        "\n",
        "# Definition with Default and Arbitrary Args\n",
        "def describe(name, age=30, *hobbies, **details):\n",
        "    print(f\"Name: {name}, Age: {age}\")\n",
        "    print(f\"Hobbies: {hobbies}\")\n",
        "    print(f\"Other Details: {details}\")\n",
        "\n",
        "# Calling (Default and Arbitrary Args)\n",
        "describe(\"Charlie\", 25, \"Reading\", \"Coding\", city=\"London\", job=\"Engineer\")\n",
        "# Output:\n",
        "# Name: Charlie, Age: 25\n",
        "# Hobbies: ('Reading', 'Coding')\n",
        "# Other Details: {'city': 'London', 'job': 'Engineer'}"
      ],
      "metadata": {
        "colab": {
          "base_uri": "https://localhost:8080/"
        },
        "id": "YCYWVq-SZ3rT",
        "outputId": "c6a74d34-8e90-444f-9429-ac8709ae2767"
      },
      "execution_count": 9,
      "outputs": [
        {
          "output_type": "stream",
          "name": "stdout",
          "text": [
            "Name: Charlie, Age: 25\n",
            "Hobbies: ('Reading', 'Coding')\n",
            "Other Details: {'city': 'London', 'job': 'Engineer'}\n"
          ]
        }
      ]
    },
    {
      "cell_type": "markdown",
      "source": [
        "4. What is the purpose of the return statement in a Python function?\n",
        " - The primary purpose of the return statement in a Python function is to exit the function and pass a value (or values) back to the caller.\n",
        "Key functions of return:\n",
        "\n",
        " a. Terminates execution: The function stops running immediately upon reaching the return statement.\n",
        "\n",
        " b. Returns a value: It hands back the result of the function's computation. If no expression is given, or if the return statement is omitted, the function implicitly returns the special value None"
      ],
      "metadata": {
        "id": "d2nSgJmzaVMN"
      }
    },
    {
      "cell_type": "code",
      "source": [
        "# Example\n",
        "def check_parity(number):\n",
        "    if number % 2 == 0:\n",
        "        return \"Even\" # Returns a value and exits\n",
        "    # If the number is odd, the function continues until the end\n",
        "    # or hits the next return statement\n",
        "    return \"Odd\"\n",
        "\n",
        "print(check_parity(4)) # Output: Even\n",
        "print(check_parity(7)) # Output: Odd\n",
        "print(check_parity(7) is None) # Output: False (it returns \"Odd\")\n",
        "\n",
        "def simple_func():\n",
        "    # No return statement, implicitly returns None\n",
        "    pass\n",
        "\n",
        "print(simple_func()) # Output: None"
      ],
      "metadata": {
        "colab": {
          "base_uri": "https://localhost:8080/"
        },
        "id": "41miU6lzantl",
        "outputId": "6cb51736-406a-48a6-931b-a0e6cb5a6880"
      },
      "execution_count": 11,
      "outputs": [
        {
          "output_type": "stream",
          "name": "stdout",
          "text": [
            "Even\n",
            "Odd\n",
            "False\n",
            "None\n"
          ]
        }
      ]
    },
    {
      "cell_type": "markdown",
      "source": [
        "5. What are iterators in Python and how do they differ from iterables?\n",
        " - Iterators and iterables are fundamental concepts in Python for handling sequences of data.\n",
        "\n",
        " - An iterable is an object that you can \"iterate\" over, meaning it can return its members one at a time. Examples of built-in iterables include lists, tuples, strings, dictionaries, and sets. Essentially, any object in Python that has an __iter__ method (which returns an iterator) or an __getitem__ method (that can take indices starting from zero) is an iterable. You can use an iterable directly in a for loop.\n",
        "\n",
        " - An iterator is an object that represents a stream of data. It is the object that does the actual iteration. An iterator must implement two methods:\n",
        "\n",
        " a. __iter__: Returns the iterator object itself.\n",
        "\n",
        " b. __next__: Returns the next item from the sequence. If there are no more items, it raises the StopIteration exception, which signals to a for loop to terminate.\n",
        "\n",
        "The difference is that an iterable is the container of data that can be iterated over, while an iterator is the tool that keeps track of the current position and returns the next item. An iterator is essentially a stateful object that remembers where it is during iteration. An iterable can create multiple independent iterators, each with its own state. When you use a for loop in Python, it first calls the iter() function (which calls the iterable's __iter__ method) on the iterable to get an iterator, and then repeatedly calls the next() function (which calls the iterator's __next__ method) on that iterator until the StopIteration exception is raised."
      ],
      "metadata": {
        "id": "MI4U7I4Ta4fS"
      }
    },
    {
      "cell_type": "code",
      "source": [
        "# Example\n",
        "# Iterable\n",
        "my_list = [10, 20, 30]\n",
        "\n",
        "# Creating an Iterator\n",
        "my_iterator = iter(my_list)\n",
        "\n",
        "# Using the Iterator\n",
        "print(next(my_iterator)) # Output: 10\n",
        "print(next(my_iterator)) # Output: 20\n",
        "print(next(my_iterator)) # Output: 30\n",
        "# print(next(my_iterator)) # Raises StopIteration"
      ],
      "metadata": {
        "colab": {
          "base_uri": "https://localhost:8080/"
        },
        "id": "Dg9mLkokbgRB",
        "outputId": "290e2676-a917-4eed-9a0b-69c80dbfb5b0"
      },
      "execution_count": 12,
      "outputs": [
        {
          "output_type": "stream",
          "name": "stdout",
          "text": [
            "10\n",
            "20\n",
            "30\n"
          ]
        }
      ]
    },
    {
      "cell_type": "markdown",
      "source": [
        "6. Explain the concept of generators in Python and how they are defined.\n",
        " - Generators are a simple and powerful tool for creating iterators. They are functions that, instead of using return to return a value and terminate, use the yield keyword to produce a sequence of values over time.\n",
        "\n",
        "A generator function pauses its execution and saves its local state every time yield is encountered. When the next element is requested (via next()), the function resumes from where it last left off.\n",
        "\n",
        "How they are Defined:\n",
        "A generator is defined like a normal function, but it uses the yield statement instead of the return statement."
      ],
      "metadata": {
        "id": "5-5uiur2bvU6"
      }
    },
    {
      "cell_type": "code",
      "source": [
        "# Example (Generator Function):\n",
        "def count_up_to(max_val):\n",
        "    n = 1\n",
        "    while n <= max_val:\n",
        "        yield n # Pauses execution and returns 'n'\n",
        "        n += 1\n",
        "\n",
        "# Calling the generator function creates a generator object (an iterator)\n",
        "my_generator = count_up_to(3)\n",
        "\n",
        "print(next(my_generator)) # Output: 1\n",
        "print(next(my_generator)) # Output: 2\n",
        "print(next(my_generator)) # Output: 3"
      ],
      "metadata": {
        "colab": {
          "base_uri": "https://localhost:8080/"
        },
        "id": "bczmMmyIcHV4",
        "outputId": "bee0eecd-5d02-4a2a-fac7-abccfac4ac14"
      },
      "execution_count": 13,
      "outputs": [
        {
          "output_type": "stream",
          "name": "stdout",
          "text": [
            "1\n",
            "2\n",
            "3\n"
          ]
        }
      ]
    },
    {
      "cell_type": "code",
      "source": [
        "# Example (Generator Expression): Generators can also be defined similarly to list comprehensions, but using parentheses () instead of square brackets [].\n",
        "squares_gen = (x * x for x in range(5))\n",
        "\n",
        "print(next(squares_gen)) # Output: 0\n",
        "print(next(squares_gen)) # Output: 1"
      ],
      "metadata": {
        "colab": {
          "base_uri": "https://localhost:8080/"
        },
        "id": "wuzrmtBHcWvz",
        "outputId": "32e2277c-8d91-41a8-aed8-f397907d4953"
      },
      "execution_count": 14,
      "outputs": [
        {
          "output_type": "stream",
          "name": "stdout",
          "text": [
            "0\n",
            "1\n"
          ]
        }
      ]
    },
    {
      "cell_type": "markdown",
      "source": [
        "7. What are the advantages of using generators over regular functions?\n",
        " - Generators offer significant advantages over regular functions that return a full list or sequence, primarily concerning memory efficiency and performance.\n",
        "\n",
        " a. Memory Efficiency (Lazy Evaluation): Generators produce items one at a time, only when requested (lazy evaluation). This is crucial when dealing with very large or infinite sequences, as the entire sequence is never stored in memory simultaneously.\n",
        "\n",
        " b. Performance Improvement: Since generation happens on-the-fly, there is no need to wait for the entire result set to be computed before processing can begin. They are also generally faster than list comprehensions for large datasets because they don't build the full list.\n",
        "\n",
        "\n",
        " c. Simplicity in Creating Iterators: Using the yield statement makes the process of creating a custom iterator much simpler and cleaner compared to writing a full iterator class with __iter__ and __next__ methods.\n",
        "\n",
        "\n",
        " d. Used for Streaming Data: They are ideal for handling data streams (like reading large files line by line) where processing can occur immediately after a piece of data is generated, without loading the whole file."
      ],
      "metadata": {
        "id": "wl6nyRkqckQ7"
      }
    },
    {
      "cell_type": "code",
      "source": [
        "# Example: Consider a function to generate the squares of the first N natural numbers. Regular Function (List-based):\n",
        "def generate_squares_list(n):\n",
        "    # This creates the *entire* list of N squares in memory at once\n",
        "    squares = []\n",
        "    for i in range(n):\n",
        "        squares.append(i * i)\n",
        "    return squares\n",
        "    \"If you call generate_squares_list(1000000), it will create a list of one million integers and store it all in memory.\"\n",
        "\n",
        "    # Generator Function:\n",
        "    def generate_squares_generator(n):\n",
        "    # This calculates and yields one square at a time, on demand\n",
        "    for i in range(n):\n",
        "        yield i * i\n",
        "    \"If you call generate_squares_generator(1000000), it immediately returns a generator object. The squares are only calculated and consumed one by one, for instance, when used in a for loop or passed to the next() function, saving a massive amount of memory.\"\n",
        "\n",
        "    # Usage:\n",
        "    # Regular Function usage: The list exists completely in memory\n",
        "list_of_squares = generate_squares_list(5)\n",
        "# [0, 1, 4, 9, 16]\n",
        "\n",
        "# Generator usage: Items are produced one at a time\n",
        "squares_gen = generate_squares_generator(5) # Returns a generator object\n",
        "for square in squares_gen:\n",
        "    # 'square' is the next item produced, and the memory for the previous one can be freed\n",
        "    print(square) # Prints: 0, 1, 4, 9, 16 (one per line)"
      ],
      "metadata": {
        "colab": {
          "base_uri": "https://localhost:8080/"
        },
        "id": "Efu86vaxd4LL",
        "outputId": "9fdd9da7-f3be-4356-c987-3d7981e79daa"
      },
      "execution_count": 17,
      "outputs": [
        {
          "output_type": "stream",
          "name": "stdout",
          "text": [
            "0\n",
            "1\n",
            "4\n",
            "9\n",
            "16\n"
          ]
        }
      ]
    },
    {
      "cell_type": "markdown",
      "source": [
        "8. What is a lambda function in Python and when is it typically used?\n",
        " - A lambda function (or anonymous function) is a small, restricted function defined without a name (hence \"anonymous\") using the lambda keyword.\n",
        "\n",
        " - Key Characteristics:\n",
        "\n",
        " a. Single Expression: It can only have one single expression, whose result is implicitly returned.\n",
        "\n",
        " b. No Statements: It cannot contain statements (like if, for, return, etc.).\n",
        "\n",
        "\n",
        " c. Syntax: lambda arguments: expression.\n",
        "\n",
        "\n",
        "- Lambda functions are primarily used when a small, throwaway function is needed for a short period, especially as an argument to a higher-order function (a function that takes other functions as arguments). Common use cases include:\n",
        "\n",
        "\n",
        " a. Sorting: Using lambda as the key argument for the sorted() or list.sort() methods to specify a custom sorting criteria.\n",
        "\n",
        "\n",
        " b. Functional Tools: Using lambda with built-in functions like map(), filter(), and reduce() to define simple operations."
      ],
      "metadata": {
        "id": "7s7lTtnbe7zF"
      }
    },
    {
      "cell_type": "code",
      "source": [
        "# Example\n",
        "# Sorting a list of tuples by the second element\n",
        "data = [(1, 'b'), (3, 'a'), (2, 'c')]\n",
        "# Use lambda as the key\n",
        "sorted_data = sorted(data, key=lambda item: item[1])\n",
        "\n",
        "print(sorted_data) # Output: [(3, 'a'), (1, 'b'), (2, 'c')]"
      ],
      "metadata": {
        "colab": {
          "base_uri": "https://localhost:8080/"
        },
        "id": "2FO_gsFcfpCd",
        "outputId": "e605dbe3-fd34-478c-859f-f6c81818761e"
      },
      "execution_count": 18,
      "outputs": [
        {
          "output_type": "stream",
          "name": "stdout",
          "text": [
            "[(3, 'a'), (1, 'b'), (2, 'c')]\n"
          ]
        }
      ]
    },
    {
      "cell_type": "markdown",
      "source": [
        "9. Explain the purpose and usage of the map() function in Python.\n",
        " - Purpose: The purpose of the built-in map() function is to apply a given function to every item of an iterable (like a list or tuple) and return an iterator (a map object) that yields the results. It provides a concise, often more readable way to perform element-wise transformations on a sequence without an explicit for loop.\n",
        "\n",
        " - Usage: The syntax is: map(function, iterable, ...).\n",
        "\n",
        " a. function: The function to be executed for each item.\n",
        "\n",
        " b. iterable: One or more sequences whose elements the function is applied to. If multiple iterables are passed, the function must take an equal number of arguments, and it stops when the shortest iterable is exhausted."
      ],
      "metadata": {
        "id": "E5lcrCbsfvY_"
      }
    },
    {
      "cell_type": "code",
      "source": [
        "# Example\n",
        "def double(n):\n",
        "    return n * 2\n",
        "\n",
        "numbers = [1, 2, 3, 4]\n",
        "\n",
        "# Apply the 'double' function to every item\n",
        "doubled_map = map(double, numbers)\n",
        "\n",
        "# Convert the map object to a list to see the result\n",
        "result = list(doubled_map)\n",
        "\n",
        "print(result) # Output: [2, 4, 6, 8]"
      ],
      "metadata": {
        "colab": {
          "base_uri": "https://localhost:8080/"
        },
        "id": "MBQYdU9AgYMc",
        "outputId": "7c8454c1-0d51-4a9e-9b37-8a4f2fed400f"
      },
      "execution_count": 19,
      "outputs": [
        {
          "output_type": "stream",
          "name": "stdout",
          "text": [
            "[2, 4, 6, 8]\n"
          ]
        }
      ]
    },
    {
      "cell_type": "markdown",
      "source": [
        "10. What is the difference between map(), reduce(), and filter() functions in Python?\n",
        " - The map(), reduce(), and filter() functions in Python are all higher-order functions used to process iterables, but they perform distinct operations:\n",
        "\n",
        " a. map(): The map() function applies a given function to every item in an iterable (like a list) and returns an iterator that yields the results. It is used when you want to transform each element of a sequence into a new value. The output sequence will have the same number of elements as the input sequence.\n",
        "\n",
        " b. filter(): The filter() function constructs an iterator from elements of an iterable for which a function returns true. It essentially \"filters out\" elements that do not satisfy a specific condition. The function passed to filter() must return a boolean value (True or False). The output sequence may have fewer elements than the input sequence.\n",
        "\n",
        " c. reduce(): The reduce() function (which is in the functools module and needs to be imported) applies a function of two arguments cumulatively to the items of an iterable, from left to right, so as to reduce the iterable to a single value. It's used to compute a single result from a list of items, such as a sum, a product, or finding a maximum value."
      ],
      "metadata": {
        "id": "YxVou939gf1-"
      }
    },
    {
      "cell_type": "code",
      "source": [
        "# Example:\n",
        "\n",
        "\"\"Consider a list of numbers: numbers = [1, 2, 3, 4, 5]\"\n",
        "\n",
        "\"- map() Example (Transformation):\n",
        "If we want to square every number:\"\n",
        "def square(x):\n",
        "    return x * x\n",
        "\n",
        "squared_numbers = list(map(square, numbers))\n",
        "# squared_numbers will be [1, 4, 9, 16, 25]\n",
        "\n",
        "\"filter() Example (Selection):\n",
        "If we want to keep only the even numbers:\"\n",
        "def is_even(x):\n",
        "    return x % 2 == 0\n",
        "\n",
        "even_numbers = list(filter(is_even, numbers))\n",
        "# even_numbers will be [2, 4]\n",
        "\n",
        "\"reduce() Example (Aggregation):\n",
        "If we want to find the sum of all numbers (requires from functools import reduce):\"\n",
        "from functools import reduce\n",
        "\n",
        "def add(x, y):\n",
        "    return x + y\n",
        "\n",
        "list_sum = reduce(add, numbers)\n",
        "# list_sum will be 15\n",
        "# (1 + 2) -> 3\n",
        "# (3 + 3) -> 6\n",
        "# (6 + 4) -> 10\n",
        "# (10 + 5) -> 15\n"
      ],
      "metadata": {
        "id": "Ukihri4qhKFI"
      },
      "execution_count": 22,
      "outputs": []
    },
    {
      "cell_type": "markdown",
      "source": [
        "11. Using pen & Paper write the internal mechanism for sum operation using reduce function on this given list: [47, 11, 42, 13].\n",
        "- Present in the pdf\n"
      ],
      "metadata": {
        "id": "UPdbSNJJmP7E"
      }
    },
    {
      "cell_type": "markdown",
      "source": [
        "# Practical Questions"
      ],
      "metadata": {
        "id": "HwFL4M83obmp"
      }
    },
    {
      "cell_type": "code",
      "source": [
        "# 1. Write a Python function that takes a list of numbers as input and returns the sum of all even numbers in the list.\n",
        "def sum_even_numbers(numbers_list):\n",
        "    \"\"\"\n",
        "    Calculates and returns the sum of all even numbers in a list.\n",
        "    \"\"\"\n",
        "    total_sum = 0\n",
        "    for number in numbers_list:\n",
        "        if number % 2 == 0:\n",
        "            total_sum += number\n",
        "    return total_sum\n",
        "\n",
        "# Example Usage\n",
        "my_numbers = [1, 2, 3, 4, 5, 6, 7, 8, 9, 10]\n",
        "result = sum_even_numbers(my_numbers)\n",
        "print(f\"The list is: {my_numbers}\")\n",
        "print(f\"The sum of even numbers is: {result}\")\n",
        "# Output: 30 (2 + 4 + 6 + 8 + 10)"
      ],
      "metadata": {
        "colab": {
          "base_uri": "https://localhost:8080/"
        },
        "id": "PCokj_cbopyW",
        "outputId": "514d7d23-1153-4cd2-811c-8a2958f0a398"
      },
      "execution_count": 23,
      "outputs": [
        {
          "output_type": "stream",
          "name": "stdout",
          "text": [
            "The list is: [1, 2, 3, 4, 5, 6, 7, 8, 9, 10]\n",
            "The sum of even numbers is: 30\n"
          ]
        }
      ]
    },
    {
      "cell_type": "code",
      "source": [
        "# 2. Create a Python function that accepts a string and returns the reverse of that string.\n",
        "def reverse_string(input_string):\n",
        "    \"\"\"\n",
        "    Reverses the given string using slicing.\n",
        "    \"\"\"\n",
        "    return input_string[::-1]\n",
        "\n",
        "# Example Usage\n",
        "my_string = \"Python Assignment\"\n",
        "reversed_str = reverse_string(my_string)\n",
        "print(f\"Original string: {my_string}\")\n",
        "print(f\"Reversed string: {reversed_str}\")\n",
        "# Output: tnemngissA nohtyP"
      ],
      "metadata": {
        "colab": {
          "base_uri": "https://localhost:8080/"
        },
        "id": "vwK3GRPcozU3",
        "outputId": "3df68633-5f9e-40d2-89a1-e76401c0f8b4"
      },
      "execution_count": 24,
      "outputs": [
        {
          "output_type": "stream",
          "name": "stdout",
          "text": [
            "Original string: Python Assignment\n",
            "Reversed string: tnemngissA nohtyP\n"
          ]
        }
      ]
    },
    {
      "cell_type": "code",
      "source": [
        "# 3. Implement a Python function that takes a list of integers and returns a new list containing the squares of each number.\n",
        "def square_numbers(int_list):\n",
        "    \"\"\"\n",
        "    Returns a new list containing the square of each number using a list comprehension.\n",
        "    \"\"\"\n",
        "    return [number ** 2 for number in int_list]\n",
        "\n",
        "# Example Usage\n",
        "input_list = [2, 5, 8, 10]\n",
        "squares_list = square_numbers(input_list)\n",
        "print(f\"Input list: {input_list}\")\n",
        "print(f\"Squares list: {squares_list}\")\n",
        "# Output: [4, 25, 64, 100]"
      ],
      "metadata": {
        "colab": {
          "base_uri": "https://localhost:8080/"
        },
        "id": "4OATAVGeo73G",
        "outputId": "3b8192ec-da09-408b-f0af-2db158cdd539"
      },
      "execution_count": 25,
      "outputs": [
        {
          "output_type": "stream",
          "name": "stdout",
          "text": [
            "Input list: [2, 5, 8, 10]\n",
            "Squares list: [4, 25, 64, 100]\n"
          ]
        }
      ]
    },
    {
      "cell_type": "code",
      "source": [
        "# 4. Write a Python function that checks if a given number is prime or not from 1 to 200.\n",
        "\"This function will check if a single input number (assumed to be within the 1-200 range, but the function works for any positive integer) is prime.\"\n",
        "def is_prime(number):\n",
        "    \"\"\"\n",
        "    Checks if a given number is prime.\n",
        "    A prime number is a natural number greater than 1 that has no positive divisors other than 1 and itself.\n",
        "    \"\"\"\n",
        "    if number <= 1:\n",
        "        return False\n",
        "    # Check for divisibility from 2 up to the square root of the number\n",
        "    for i in range(2, int(number**0.5) + 1):\n",
        "        if number % i == 0:\n",
        "            return False\n",
        "    return True\n",
        "\n",
        "# Example Usage\n",
        "num1 = 17\n",
        "num2 = 18\n",
        "\n",
        "print(f\"{num1} is prime: {is_prime(num1)}\") # Output: True\n",
        "print(f\"{num2} is prime: {is_prime(num2)}\") # Output: False\n",
        "\n",
        "# Example to list primes from 1 to 200 (as implied by the question)\n",
        "# print(\"\\nPrime numbers from 1 to 200:\")\n",
        "# primes = [i for i in range(1, 201) if is_prime(i)]\n",
        "# print(primes)"
      ],
      "metadata": {
        "colab": {
          "base_uri": "https://localhost:8080/"
        },
        "id": "I602aPvSpFjc",
        "outputId": "74948301-e8d1-496d-c001-fd1dca931685"
      },
      "execution_count": 26,
      "outputs": [
        {
          "output_type": "stream",
          "name": "stdout",
          "text": [
            "17 is prime: True\n",
            "18 is prime: False\n"
          ]
        }
      ]
    },
    {
      "cell_type": "code",
      "source": [
        "# 5. Create an iterator class in Python that generates the Fibonacci sequence up to a specified number of terms.\n",
        "class FibonacciIterator:\n",
        "    \"\"\"\n",
        "    An iterator that generates the Fibonacci sequence up to a specified number of terms.\n",
        "    \"\"\"\n",
        "    def __init__(self, terms):\n",
        "        self.terms = terms\n",
        "        self.count = 0\n",
        "        self.a = 0\n",
        "        self.b = 1\n",
        "\n",
        "    def __iter__(self):\n",
        "        # Return the iterator object itself\n",
        "        return self\n",
        "\n",
        "    def __next__(self):\n",
        "        if self.count >= self.terms:\n",
        "            raise StopIteration\n",
        "\n",
        "        # Handle the first two terms\n",
        "        if self.count == 0:\n",
        "            self.count += 1\n",
        "            return self.a\n",
        "        elif self.count == 1:\n",
        "            self.count += 1\n",
        "            return self.b\n",
        "\n",
        "        # Calculate the next term\n",
        "        next_term = self.a + self.b\n",
        "        self.a, self.b = self.b, next_term # Update state\n",
        "        self.count += 1\n",
        "\n",
        "        return next_term\n",
        "\n",
        "# Example Usage\n",
        "fib_seq = FibonacciIterator(10)\n",
        "print(\"Fibonacci sequence (10 terms):\")\n",
        "print(list(fib_seq))\n",
        "# Output: [0, 1, 1, 2, 3, 5, 8, 13, 21, 34]"
      ],
      "metadata": {
        "colab": {
          "base_uri": "https://localhost:8080/"
        },
        "id": "yhvrSQC1pTXg",
        "outputId": "6b85fdd1-d805-454c-a534-b20a99cad17a"
      },
      "execution_count": 27,
      "outputs": [
        {
          "output_type": "stream",
          "name": "stdout",
          "text": [
            "Fibonacci sequence (10 terms):\n",
            "[0, 1, 1, 2, 3, 5, 8, 13, 21, 34]\n"
          ]
        }
      ]
    },
    {
      "cell_type": "code",
      "source": [
        "# 6. Write a generator function in Python that yields the powers of 2 up to a given exponent.\n",
        "def powers_of_two_generator(max_exponent):\n",
        "    \"\"\"\n",
        "    A generator function that yields powers of 2 up to a maximum exponent (inclusive).\n",
        "    \"\"\"\n",
        "    exponent = 0\n",
        "    while exponent <= max_exponent:\n",
        "        yield 2 ** exponent\n",
        "        exponent += 1\n",
        "\n",
        "# Example Usage\n",
        "power_gen = powers_of_two_generator(5)\n",
        "print(\"Powers of 2 up to exponent 5:\")\n",
        "\n",
        "# Iterate through the generator\n",
        "for power in power_gen:\n",
        "    print(power)\n",
        "# Output: 1, 2, 4, 8, 16, 32"
      ],
      "metadata": {
        "colab": {
          "base_uri": "https://localhost:8080/"
        },
        "id": "jyFghqsEpeoM",
        "outputId": "152e8005-3a42-4900-af9c-bcb5c7aae1b3"
      },
      "execution_count": 28,
      "outputs": [
        {
          "output_type": "stream",
          "name": "stdout",
          "text": [
            "Powers of 2 up to exponent 5:\n",
            "1\n",
            "2\n",
            "4\n",
            "8\n",
            "16\n",
            "32\n"
          ]
        }
      ]
    },
    {
      "cell_type": "code",
      "source": [
        "# 7. Implement a generator function that reads a file line by line and yields each line as a string.\n",
        "\"Assuming a file named sample_data.txt exists for demonstration purposes:\"\n",
        "# Create a dummy file for the example\n",
        "import os\n",
        "try:\n",
        "    with open('sample_data.txt', 'w') as f:\n",
        "        f.write(\"First line of data.\\n\")\n",
        "        f.write(\"Second line is here.\\n\")\n",
        "        f.write(\"And the third line.\\n\")\n",
        "except Exception as e:\n",
        "    print(f\"Could not create dummy file: {e}\")\n",
        "\n",
        "def read_file_line_by_line(filepath):\n",
        "    \"\"\"\n",
        "    A generator that reads a file and yields each line, saving memory.\n",
        "    \"\"\"\n",
        "    try:\n",
        "        with open(filepath, 'r') as file:\n",
        "            for line in file:\n",
        "                yield line.strip() # .strip() removes leading/trailing whitespace, including newline\n",
        "    except FileNotFoundError:\n",
        "        print(f\"Error: File not found at {filepath}\")\n",
        "\n",
        "# Example Usage\n",
        "file_path = 'sample_data.txt'\n",
        "line_generator = read_file_line_by_line(file_path)\n",
        "\n",
        "print(f\"Reading file: {file_path}\")\n",
        "for line in line_generator:\n",
        "    print(f\"--> {line}\")\n",
        "\n",
        "# Clean up the dummy file\n",
        "# os.remove(file_path)"
      ],
      "metadata": {
        "colab": {
          "base_uri": "https://localhost:8080/"
        },
        "id": "wid1A-RGpprt",
        "outputId": "0e951050-23b1-463f-f4b8-a2e8bf930e99"
      },
      "execution_count": 29,
      "outputs": [
        {
          "output_type": "stream",
          "name": "stdout",
          "text": [
            "Reading file: sample_data.txt\n",
            "--> First line of data.\n",
            "--> Second line is here.\n",
            "--> And the third line.\n"
          ]
        }
      ]
    },
    {
      "cell_type": "code",
      "source": [
        "# 8. Use a lambda function in Python to sort a list of tuples based on the second element of each tuple.\n",
        "# List of tuples: (name, score)\n",
        "students = [\n",
        "    ('Alex', 88),\n",
        "    ('Bella', 95),\n",
        "    ('Chris', 75),\n",
        "    ('David', 95)\n",
        "]\n",
        "\n",
        "# Use a lambda function as the key for the sorted() function.\n",
        "# item[1] refers to the second element (the score).\n",
        "sorted_students = sorted(students, key=lambda item: item[1], reverse=True)\n",
        "\n",
        "print(\"Original List:\")\n",
        "print(students)\n",
        "print(\"\\nSorted by Score (descending):\")\n",
        "print(sorted_students)\n",
        "# Output: [('Bella', 95), ('David', 95), ('Alex', 88), ('Chris', 75)]"
      ],
      "metadata": {
        "colab": {
          "base_uri": "https://localhost:8080/"
        },
        "id": "GLvt37cLqBwq",
        "outputId": "b0fde64e-3acf-4081-c8c0-531149e9e4cf"
      },
      "execution_count": 30,
      "outputs": [
        {
          "output_type": "stream",
          "name": "stdout",
          "text": [
            "Original List:\n",
            "[('Alex', 88), ('Bella', 95), ('Chris', 75), ('David', 95)]\n",
            "\n",
            "Sorted by Score (descending):\n",
            "[('Bella', 95), ('David', 95), ('Alex', 88), ('Chris', 75)]\n"
          ]
        }
      ]
    },
    {
      "cell_type": "code",
      "source": [
        "# 9. Write a Python program that uses map() to convert a list of temperatures from Celsius to Fahrenheit.\n",
        "\"The conversion formula is: Fahrenheit=(Celsius×9/5)+32.\"\n",
        "# List of Celsius temperatures\n",
        "celsius_temps = [0, 10, 25, 37, 100]\n",
        "\n",
        "# Define a function for conversion\n",
        "def celsius_to_fahrenheit(celsius):\n",
        "    return (celsius * 9/5) + 32\n",
        "\n",
        "# Use map() to apply the function to every item\n",
        "fahrenheit_map = map(celsius_to_fahrenheit, celsius_temps)\n",
        "\n",
        "# Convert the map object to a list\n",
        "fahrenheit_temps = list(fahrenheit_map)\n",
        "\n",
        "print(f\"Celsius temperatures: {celsius_temps}\")\n",
        "print(f\"Fahrenheit temperatures: {fahrenheit_temps}\")\n",
        "# Output: [32.0, 50.0, 77.0, 98.6, 212.0]"
      ],
      "metadata": {
        "colab": {
          "base_uri": "https://localhost:8080/"
        },
        "id": "HmA3HhetqKIY",
        "outputId": "85077154-fd41-4b68-c76f-926050bc243c"
      },
      "execution_count": 31,
      "outputs": [
        {
          "output_type": "stream",
          "name": "stdout",
          "text": [
            "Celsius temperatures: [0, 10, 25, 37, 100]\n",
            "Fahrenheit temperatures: [32.0, 50.0, 77.0, 98.6, 212.0]\n"
          ]
        }
      ]
    },
    {
      "cell_type": "code",
      "source": [
        "# 10. Create a Python program that uses filter() to remove all the vowels from a given string.\n",
        "def remove_vowels(input_string):\n",
        "    \"\"\"\n",
        "    Uses filter() to create a new string containing only consonants.\n",
        "    \"\"\"\n",
        "    vowels = 'aeiouAEIOU'\n",
        "\n",
        "    # Define a lambda function to check if a character is a consonant (i.e., NOT a vowel)\n",
        "    # The filter function keeps elements for which the lambda returns True\n",
        "    consonants = filter(lambda char: char not in vowels, input_string)\n",
        "\n",
        "    # Join the filtered characters back into a string\n",
        "    return \"\".join(consonants)\n",
        "\n",
        "# Example Usage\n",
        "my_string = \"Hello, Python Filter!\"\n",
        "result = remove_vowels(my_string)\n",
        "\n",
        "print(f\"Original string: {my_string}\")\n",
        "print(f\"String without vowels: {result}\")\n",
        "# Output: Hll, Pythn Fltr!"
      ],
      "metadata": {
        "colab": {
          "base_uri": "https://localhost:8080/"
        },
        "id": "B9HC2TU7qTwO",
        "outputId": "d6ba2336-fc31-4381-d5f5-fb0970651c1f"
      },
      "execution_count": 32,
      "outputs": [
        {
          "output_type": "stream",
          "name": "stdout",
          "text": [
            "Original string: Hello, Python Filter!\n",
            "String without vowels: Hll, Pythn Fltr!\n"
          ]
        }
      ]
    },
    {
      "cell_type": "markdown",
      "source": [
        " 11. Book Shop Accounting Routine\n",
        "Goal: Return a list of 2-tuples (Order Number, Adjusted Total Price) using lambda and map().\n",
        "\n",
        "Data Structure (from the assignment):\n",
        "| Order Number | Book Title and Author | Quantity | Price per Item |\n",
        "| :--- | :--- | :--- | :--- |\n",
        "| 34587 | Learning Python, Mark Lutz | 4 | 40.95 |\n",
        "| 98762 | Programming Python, Mark Lutz | 5 | 56.80 |\n",
        "| 77226 | Head First Python, Paul Barry | 3 | 32.95 |\n",
        "| 88112 | Einführung in Python3, Bernd Klein | 3 | 24.99 |\n",
        "\n",
        "Logic:\n",
        "\n",
        "Calculate Product Total: Quantity * Price per Item\n",
        "\n",
        "Add Surcharge: If Product Total < 100.00 €, add 10.00 € to the total.\n",
        "\n",
        "Resulting tuple:\n",
        "\n",
        "(Order Number, Adjusted Total Price).\n",
        "\n"
      ],
      "metadata": {
        "id": "YOTrn1_OrLax"
      }
    },
    {
      "cell_type": "code",
      "source": [
        "# The raw data list of lists\n",
        "orders = [\n",
        "    [34587, \"Learning Python, Mark Lutz\", 4, 40.95],\n",
        "    [98762, \"Programming Python, Mark Lutz\", 5, 56.80],\n",
        "    [77226, \"Head First Python, Paul Barry\", 3, 32.95],\n",
        "    [88112, \"Einführung in Python3, Bernd Klein\", 3, 24.99]\n",
        "]\n",
        "\n",
        "# Define the lambda function to process each order sublist\n",
        "# The lambda function takes a single 'order' list as input\n",
        "def calculate_order_total(order):\n",
        "    order_number = order[0]    # Index 0\n",
        "    quantity = order[2]        # Index 2\n",
        "    price_per_item = order[3]  # Index 3\n",
        "\n",
        "    # 1. Calculate Product Total\n",
        "    product_total = quantity * price_per_item\n",
        "\n",
        "    # 2. Add Surcharge: if total is smaller than 100.00 €, increase by 10.00 €\n",
        "    adjusted_total = product_total + (10.00 if product_total < 100.00 else 0)\n",
        "\n",
        "    # 3. Return the 2-tuple (Order Number, Adjusted Total Price)\n",
        "    # Rounding to 2 decimal places for currency\n",
        "    return (order_number, round(adjusted_total, 2))\n",
        "\n",
        "# Use map() to apply the lambda function to every item in the 'orders' list\n",
        "# The map object yields the 2-tuples\n",
        "order_totals_map = map(calculate_order_total, orders)\n",
        "\n",
        "# Convert the map object to a list for final output\n",
        "final_order_totals = list(order_totals_map)\n",
        "\n",
        "print(\"Original Orders (Order #, Quantity, Price):\")\n",
        "for order in orders:\n",
        "    print(f\"({order[0]}, {order[2]}, {order[3]})\")\n",
        "\n",
        "print(\"\\nFinal List of 2-tuples (Order #, Adjusted Total Price):\")\n",
        "print(final_order_totals)\n",
        "# Expected Output:\n",
        "# 34587: 4 * 40.95 = 163.80 (No surcharge) -> 163.80\n",
        "# 98762: 5 * 56.80 = 284.00 (No surcharge) -> 284.00\n",
        "# 77226: 3 * 32.95 = 98.85 (Surcharge 10.00) -> 108.85\n",
        "# 88112: 3 * 24.99 = 74.97 (Surcharge 10.00) -> 84.97\n",
        "# Output: [(34587, 163.8), (98762, 284.0), (77226, 108.85), (88112, 84.97)]"
      ],
      "metadata": {
        "colab": {
          "base_uri": "https://localhost:8080/"
        },
        "id": "pz2h1t_5rbTQ",
        "outputId": "5c2889ba-8b33-4670-e598-2d782d62df99"
      },
      "execution_count": 33,
      "outputs": [
        {
          "output_type": "stream",
          "name": "stdout",
          "text": [
            "Original Orders (Order #, Quantity, Price):\n",
            "(34587, 4, 40.95)\n",
            "(98762, 5, 56.8)\n",
            "(77226, 3, 32.95)\n",
            "(88112, 3, 24.99)\n",
            "\n",
            "Final List of 2-tuples (Order #, Adjusted Total Price):\n",
            "[(34587, 163.8), (98762, 284.0), (77226, 108.85), (88112, 84.97)]\n"
          ]
        }
      ]
    },
    {
      "cell_type": "markdown",
      "source": [],
      "metadata": {
        "id": "FQFTVpE1Vt-t"
      }
    },
    {
      "cell_type": "markdown",
      "source": [],
      "metadata": {
        "id": "BJvKO1T7U2IW"
      }
    }
  ]
}